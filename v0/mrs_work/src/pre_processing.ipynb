{
 "cells": [
  {
   "cell_type": "code",
   "execution_count": 1,
   "id": "24a39041",
   "metadata": {},
   "outputs": [],
   "source": [
    "# Imports\n",
    "from pathlib import Path\n",
    "from utils import get_dataframes, merge_dataframes, normalize_data # utils.py\n",
    "\n",
    "import constants # constants.py"
   ]
  },
  {
   "cell_type": "code",
   "execution_count": 2,
   "id": "1a78af1f",
   "metadata": {},
   "outputs": [],
   "source": [
    "# Read data from .bag file into a DataFrame dictionary\n",
    "# uav4 is used as an example here\n",
    "dfs = get_dataframes(f\"{str(Path.home())}/{constants.PROJECT_NAME}/data\", \"data\", \"uav4\", angle_measure='deg')\n",
    "# Merge the previous data into a single DataFrame\n",
    "# Pre-processing is already applied at this step\n",
    "merge_df = merge_dataframes(dfs)\n",
    "# Normalize the DataFrame\n",
    "merge_df_norm = normalize_data(merge_df)\n",
    "# Save the processed data in a .csv\n",
    "merge_df_norm.to_csv(f\"{str(Path.home())}/{constants.PROJECT_NAME}/data/file_data.csv\", index=False)"
   ]
  },
  {
   "cell_type": "code",
   "execution_count": null,
   "id": "8cbc6478",
   "metadata": {},
   "outputs": [],
   "source": []
  }
 ],
 "metadata": {
  "kernelspec": {
   "display_name": "Python 3 (ipykernel)",
   "language": "python",
   "name": "python3"
  },
  "language_info": {
   "codemirror_mode": {
    "name": "ipython",
    "version": 3
   },
   "file_extension": ".py",
   "mimetype": "text/x-python",
   "name": "python",
   "nbconvert_exporter": "python",
   "pygments_lexer": "ipython3",
   "version": "3.8.10"
  }
 },
 "nbformat": 4,
 "nbformat_minor": 5
}
