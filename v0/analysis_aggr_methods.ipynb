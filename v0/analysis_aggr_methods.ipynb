{
 "cells": [
  {
   "cell_type": "code",
   "execution_count": null,
   "id": "8fb38da8",
   "metadata": {},
   "outputs": [],
   "source": [
    "# Imports\n",
    "import pandas as pd\n",
    "import matplotlib.pyplot as plt"
   ]
  },
  {
   "cell_type": "code",
   "execution_count": null,
   "id": "1f48497a",
   "metadata": {},
   "outputs": [],
   "source": [
    "# F1-score on each aggregation method and round\n",
    "df = pd.DataFrame(data={\n",
    "    'FedAvg'    :[0.83012, 0.90606, 0.91212, 0.91276, 0.87240, 0.88690, 0.88693, 0.88950, 0.89178, 0.88122],\n",
    "    'FedAvgM'   :[0.94133, 0.71292, 0.87356, 0.87812, 0.90689, 0.90572, 0.92570, 0.93079, 0.91442, 0.87042],\n",
    "    'FedAdagrad':[0.85950, 0.90142, 0.86182, 0.94289, 0.89022, 0.92176, 0.89268, 0.91501, 0.90067, 0.91183],\n",
    "    'FedAdam'   :[0.85950, 0.91339, 0.86898, 0.63075, 0.86827, 0.95900, 0.8761, 0.951720, 0.86271, 0.95798],\n",
    "    'FedYogi'   :[0.85950, 0.95509, 0.86838, 0.97114, 0.85094, 0.97066, 0.83028, 0.94314, 0.87236, 0.91958]\n",
    "})"
   ]
  },
  {
   "cell_type": "code",
   "execution_count": null,
   "id": "840ef3bb",
   "metadata": {},
   "outputs": [],
   "source": [
    "# DataFrame plot\n",
    "plt.rc('font', **{'size':12}) # Setting font size \n",
    "df.plot(style=['+-','o-','.--','s:', '-.'])\n",
    "plt.xlabel('Round', labelpad=12, fontsize=14)\n",
    "plt.ylabel('F1-Score', labelpad=12, fontsize=14)"
   ]
  },
  {
   "cell_type": "code",
   "execution_count": null,
   "id": "1ee0e737",
   "metadata": {},
   "outputs": [],
   "source": [
    "# F1-score average\n",
    "df.mean()"
   ]
  },
  {
   "cell_type": "code",
   "execution_count": null,
   "id": "00452949",
   "metadata": {},
   "outputs": [],
   "source": [
    "# ROC AUC average\n",
    "pd.DataFrame(data={\n",
    "    'FedAvg'    :[0.73567, 0.85103, 0.85661, 0.86200, 0.82021, 0.83073, 0.82802, 0.82875, 0.82951, 0.81850],\n",
    "    'FedAvgM'   :[0.89483, 0.62759, 0.81849, 0.81737, 0.83709, 0.83385, 0.87308, 0.88240, 0.85708, 0.78889],\n",
    "    'FedAdagrad':[0.80536, 0.83636, 0.79179, 0.91776, 0.82445, 0.87370, 0.82848, 0.86002, 0.83876, 0.85724],\n",
    "    'FedAdam'   :[0.80536, 0.85666, 0.81822, 0.60966, 0.81043, 0.93710, 0.82252, 0.92583, 0.80626, 0.93529],\n",
    "    'FedYogi'   :[0.80536, 0.92924, 0.80716, 0.95574, 0.77893, 0.95650, 0.75116, 0.89830, 0.80280, 0.85147]\n",
    "}).mean()"
   ]
  },
  {
   "cell_type": "code",
   "execution_count": null,
   "id": "77a1408f",
   "metadata": {},
   "outputs": [],
   "source": []
  }
 ],
 "metadata": {
  "kernelspec": {
   "display_name": "Python 3 (ipykernel)",
   "language": "python",
   "name": "python3"
  },
  "language_info": {
   "codemirror_mode": {
    "name": "ipython",
    "version": 3
   },
   "file_extension": ".py",
   "mimetype": "text/x-python",
   "name": "python",
   "nbconvert_exporter": "python",
   "pygments_lexer": "ipython3",
   "version": "3.10.6"
  }
 },
 "nbformat": 4,
 "nbformat_minor": 5
}
