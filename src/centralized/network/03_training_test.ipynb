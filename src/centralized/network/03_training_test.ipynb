{
 "cells": [
  {
   "cell_type": "markdown",
   "metadata": {
    "id": "2bAk0F5110bd"
   },
   "source": [
    "# 03. Training and Test\n",
    "\n",
    "Train/validate and test different models for each resampling strategy."
   ]
  },
  {
   "cell_type": "markdown",
   "metadata": {
    "jp-MarkdownHeadingCollapsed": true
   },
   "source": [
    "## 01. Imports and Settings"
   ]
  },
  {
   "cell_type": "code",
   "execution_count": null,
   "metadata": {
    "editable": true,
    "slideshow": {
     "slide_type": ""
    },
    "tags": []
   },
   "outputs": [],
   "source": [
    "# Imports\n",
    "from catboost import CatBoostClassifier\n",
    "from IPython.display import display\n",
    "from libs.hyper_optimization import (\n",
    "    HyperParamRandomForestClassifier,\n",
    "    HyperParamXGBoostClassifier,\n",
    "    HyperParamLightGBMClassifier,\n",
    "    HyperParamCatBoostClassifier\n",
    ")  # hyper_optimization.py\n",
    "from libs.model_evaluation import (\n",
    "    plot_roc_curve,\n",
    "    plot_pr_curve,\n",
    "    train_validate_model,\n",
    "    test_model,\n",
    "    plot_feature_importances\n",
    ")  # model_evaluation.py\n",
    "from libs.utils import split_X_y, save_object  # utils.py\n",
    "from lightgbm import LGBMClassifier\n",
    "from sklearn.ensemble import RandomForestClassifier\n",
    "from xgboost import XGBClassifier\n",
    "\n",
    "import pandas as pd\n",
    "import warnings\n",
    "\n",
    "\n",
    "# Ignore warnings\n",
    "warnings.filterwarnings(\"ignore\")\n",
    "\n",
    "# Pandas settings\n",
    "pd.options.display.float_format = \"{:.2f}\".format\n",
    "pd.set_option(\"display.max_rows\", 500)\n",
    "pd.set_option(\"display.max_columns\", 500)\n",
    "pd.set_option(\"display.max_colwidth\", 150)  # Increase column width\n",
    "\n",
    "# Default path\n",
    "DATA_PATH = \"data/\"\n",
    "BIN_PATH = \"bin/\""
   ]
  },
  {
   "cell_type": "markdown",
   "metadata": {
    "jp-MarkdownHeadingCollapsed": true
   },
   "source": [
    "## 02. Load Data"
   ]
  },
  {
   "cell_type": "code",
   "execution_count": null,
   "metadata": {},
   "outputs": [],
   "source": [
    "# Dictionary to save models and their metrics\n",
    "resampled = dict()\n",
    "\n",
    "# Initializing for each resampling technique\n",
    "for strategy in [\"ONLY_RUS\", \"ROS\", \"SMOTENC\", \"CTGAN\"]:\n",
    "    resampled[strategy] = dict()\n",
    "    resampled[strategy][\"data\"] = pd.DataFrame()\n",
    "    \n",
    "    for clf in [\"rf\", \"xgb\", \"lgb\", \"catboost\", \"xgb_boruta\"]:  # For each classifier type...\n",
    "        resampled[strategy][clf] = {\"obj\": object(), \"train_metrics\": {}, \"test_metrics\": {}}"
   ]
  },
  {
   "cell_type": "code",
   "execution_count": null,
   "metadata": {},
   "outputs": [],
   "source": [
    "# # Load training data from distinct resampling techniques\n",
    "resampled[\"ONLY_RUS\"][\"data\"] = pd.read_csv(f\"{DATA_PATH}resampling/train_data_ONLY_RUS.csv\")\n",
    "resampled[\"ROS\"][\"data\"] = pd.read_csv(f\"{DATA_PATH}resampling/train_data_ROS.csv\")\n",
    "resampled[\"SMOTENC\"][\"data\"] = pd.read_csv(f\"{DATA_PATH}resampling/train_data_SMOTENC.csv\")\n",
    "resampled[\"CTGAN\"][\"data\"] = pd.read_csv(f\"{DATA_PATH}resampling/train_data_CTGAN.csv\")\n",
    "\n",
    "# Test data\n",
    "test_df = pd.read_csv(f\"{DATA_PATH}test_data.csv\")\n",
    "# Split test data into X and y\n",
    "X_test, y_test = split_X_y(test_df, \"is_target\", [])"
   ]
  },
  {
   "cell_type": "code",
   "execution_count": null,
   "metadata": {},
   "outputs": [],
   "source": [
    "# Categorial columns\n",
    "categorical_cols = [\"join_s\", \"sch_s\", \"sch_r\"]\n",
    "# Numerical columns\n",
    "numerical_cols = [\"adv_r\", \"adv_s\", \"data_r\", \"data_s\", \"dist_ch_to_bs\",\n",
    "                  \"dist_to_ch\", \"expaned_energy\", \"rank\", \"send_code\", \"who_ch\"]\n",
    "features = categorical_cols + numerical_cols\n",
    "# Selected features in Boruta\n",
    "boruta_features = [\"adv_s\", \"expaned_energy\", \"dist_ch_to_bs\", \"adv_r\", \"who_ch\", \"data_r\"]"
   ]
  },
  {
   "cell_type": "markdown",
   "metadata": {
    "jp-MarkdownHeadingCollapsed": true
   },
   "source": [
    "## 03. Train Models"
   ]
  },
  {
   "cell_type": "markdown",
   "metadata": {
    "jp-MarkdownHeadingCollapsed": true
   },
   "source": [
    "### 03.1. Random Forest"
   ]
  },
  {
   "cell_type": "code",
   "execution_count": null,
   "metadata": {},
   "outputs": [],
   "source": [
    "for strategy in [\"ONLY_RUS\", \"ROS\", \"SMOTENC\", \"CTGAN\"]:  # For each resampling strategy...\n",
    "    print(f\"\\n>> {strategy}\\n\")\n",
    "    # Split into X and y\n",
    "    X_train, y_train = split_X_y(resampled[strategy][\"data\"], \"is_target\", [])\n",
    "    \n",
    "    # Optimizing hyperparameters...\n",
    "    model, best_hyperparams, _ = HyperParamRandomForestClassifier(\n",
    "        X_train, y_train, n_trials=100).run()\n",
    "\n",
    "    # Cross-Validation with k = 5\n",
    "    resampled[strategy][\"rf\"][\"train_metrics\"] = train_validate_model(model, X_train, y_train)\n",
    "    # Training model...\n",
    "    model = RandomForestClassifier(**best_hyperparams)\n",
    "    model.fit(X_train, y_train)\n",
    "    # Model testing\n",
    "    resampled[strategy][\"rf\"][\"test_metrics\"] = test_model(model, X_test, y_test)\n",
    "    print(\"\\n\")\n",
    "    # ROC and PR Curves\n",
    "    plot_roc_curve(model, X_test, y_test)\n",
    "    print(\"\\n\")\n",
    "    plot_pr_curve(model, X_test, y_test)\n",
    "    # Save trained model\n",
    "    resampled[strategy][\"rf\"][\"obj\"] = model\n",
    "    save_object(resampled[strategy][\"rf\"][\"obj\"], f\"{BIN_PATH}rf_{strategy}_obj\")\n",
    "    print(\"\\n\")\n",
    "\n",
    "    # Feature Importance\n",
    "    plot_feature_importances(resampled[strategy][\"rf\"][\"obj\"], features, top_n=len(features))\n",
    "    print(\"\\n\\n\\n\")"
   ]
  },
  {
   "cell_type": "markdown",
   "metadata": {
    "jp-MarkdownHeadingCollapsed": true
   },
   "source": [
    "### 03.2. XGBoost"
   ]
  },
  {
   "cell_type": "code",
   "execution_count": null,
   "metadata": {},
   "outputs": [],
   "source": [
    "for strategy in [\"ONLY_RUS\", \"ROS\", \"SMOTENC\", \"CTGAN\"]:  # For each resampling strategy...\n",
    "    print(f\"\\n>> {strategy}\\n\")\n",
    "    # Split into X and y\n",
    "    X_train, y_train = split_X_y(resampled[strategy][\"data\"], \"is_target\", [])\n",
    "    \n",
    "    # Optimizing hyperparameters...\n",
    "    model, best_hyperparams, _ = HyperParamXGBoostClassifier(\n",
    "        X_train, y_train, n_trials=100).run()\n",
    "\n",
    "    # Cross-Validation with k = 5\n",
    "    resampled[strategy][\"xgb\"][\"train_metrics\"] = train_validate_model(model, X_train, y_train)\n",
    "    # Training model...\n",
    "    model = XGBClassifier(**best_hyperparams)\n",
    "    model.fit(X_train, y_train)\n",
    "    # Model testing\n",
    "    resampled[strategy][\"xgb\"][\"test_metrics\"] = test_model(model, X_test, y_test)\n",
    "    print(\"\\n\")\n",
    "    # ROC and PR Curves\n",
    "    plot_roc_curve(model, X_test, y_test)\n",
    "    print(\"\\n\")\n",
    "    plot_pr_curve(model, X_test, y_test)\n",
    "    # Save trained model\n",
    "    resampled[strategy][\"xgb\"][\"obj\"] = model\n",
    "    save_object(resampled[strategy][\"xgb\"][\"obj\"], f\"{BIN_PATH}xgb_{strategy}_obj\")\n",
    "    print(\"\\n\")\n",
    "\n",
    "    # Feature Importance\n",
    "    plot_feature_importances(resampled[strategy][\"xgb\"][\"obj\"], features, top_n=len(features))\n",
    "    print(\"\\n\\n\\n\")"
   ]
  },
  {
   "cell_type": "markdown",
   "metadata": {
    "jp-MarkdownHeadingCollapsed": true
   },
   "source": [
    "### 03.3. LightGBM"
   ]
  },
  {
   "cell_type": "code",
   "execution_count": null,
   "metadata": {},
   "outputs": [],
   "source": [
    "for strategy in [\"ONLY_RUS\", \"ROS\", \"SMOTENC\", \"CTGAN\"]:  # For each resampling strategy...\n",
    "    print(f\"\\n>> {strategy}\\n\")\n",
    "    # Split into X and y\n",
    "    X_train, y_train = split_X_y(resampled[strategy][\"data\"], \"is_target\", [])\n",
    "    \n",
    "    # Optimizing hyperparameters...\n",
    "    model, best_hyperparams, _ = HyperParamLightGBMClassifier(\n",
    "        X_train, y_train, n_trials=100).run()\n",
    "\n",
    "    # Cross-Validation with k = 5\n",
    "    resampled[strategy][\"lgb\"][\"train_metrics\"] = train_validate_model(model, X_train, y_train)\n",
    "    # Training model...\n",
    "    model = LGBMClassifier(**best_hyperparams, verbosity=-1)\n",
    "    model.fit(X_train, y_train)\n",
    "    # Model testing\n",
    "    resampled[strategy][\"lgb\"][\"test_metrics\"] = test_model(model, X_test, y_test)\n",
    "    print(\"\\n\")\n",
    "    # ROC and PR Curves\n",
    "    plot_roc_curve(model, X_test, y_test)\n",
    "    print(\"\\n\")\n",
    "    plot_pr_curve(model, X_test, y_test)\n",
    "    # Save trained model\n",
    "    resampled[strategy][\"lgb\"][\"obj\"] = model\n",
    "    save_object(resampled[strategy][\"lgb\"][\"obj\"], f\"{BIN_PATH}lgb_{strategy}_obj\")\n",
    "    print(\"\\n\")\n",
    "\n",
    "    # Feature Importance\n",
    "    plot_feature_importances(resampled[strategy][\"lgb\"][\"obj\"], features, top_n=len(features))\n",
    "    print(\"\\n\\n\\n\")"
   ]
  },
  {
   "cell_type": "markdown",
   "metadata": {
    "jp-MarkdownHeadingCollapsed": true
   },
   "source": [
    "### 03.4. CatBoost"
   ]
  },
  {
   "cell_type": "code",
   "execution_count": null,
   "metadata": {},
   "outputs": [],
   "source": [
    "for strategy in [\"ONLY_RUS\", \"ROS\", \"SMOTENC\", \"CTGAN\"]:  # For each resampling strategy...\n",
    "    print(f\"\\n>> {strategy}\\n\")\n",
    "    # Split into X and y\n",
    "    X_train, y_train = split_X_y(resampled[strategy][\"data\"], \"is_target\", [])\n",
    "    \n",
    "    # Optimizing hyperparameters...\n",
    "    model, best_hyperparams, _ = HyperParamCatBoostClassifier(\n",
    "        X_train, y_train, n_trials=100).run()\n",
    "\n",
    "    # Cross-Validation with k = 5\n",
    "    resampled[strategy][\"catboost\"][\"train_metrics\"] = train_validate_model(model, X_train, y_train)\n",
    "    # Training model...\n",
    "    model = CatBoostClassifier(**best_hyperparams, cat_features=categorical_cols, logging_level=\"Silent\")\n",
    "    model.fit(X_train, y_train)\n",
    "    # Model testing\n",
    "    resampled[strategy][\"catboost\"][\"test_metrics\"] = test_model(model, X_test, y_test)\n",
    "    print(\"\\n\")\n",
    "    # ROC and PR Curves\n",
    "    plot_roc_curve(model, X_test, y_test)\n",
    "    print(\"\\n\")\n",
    "    plot_pr_curve(model, X_test, y_test)\n",
    "    # Save trained model\n",
    "    resampled[strategy][\"catboost\"][\"obj\"] = model\n",
    "    save_object(resampled[strategy][\"catboost\"][\"obj\"], f\"{BIN_PATH}catboost_{strategy}_obj\")\n",
    "    print(\"\\n\")\n",
    "    \n",
    "    # Feature Importance\n",
    "    plot_feature_importances(resampled[strategy][\"catboost\"][\"obj\"], features, top_n=len(features))\n",
    "    print(\"\\n\\n\\n\")"
   ]
  },
  {
   "cell_type": "markdown",
   "metadata": {
    "jp-MarkdownHeadingCollapsed": true
   },
   "source": [
    "### 03.5. XGBoost-Boruta"
   ]
  },
  {
   "cell_type": "code",
   "execution_count": null,
   "metadata": {
    "scrolled": true
   },
   "outputs": [],
   "source": [
    "for strategy in [\"ONLY_RUS\", \"ROS\", \"SMOTENC\", \"CTGAN\"]:  # For each resampling strategy...\n",
    "    print(f\"\\n>> {strategy}\\n\")\n",
    "    # Split into X and y\n",
    "    # Select only Boruta features\n",
    "    X_train, y_train = split_X_y(resampled[strategy][\"data\"][boruta_features + [\"is_target\"]], \"is_target\", [])\n",
    "    \n",
    "    # Optimizing hyperparameters...\n",
    "    model, best_hyperparams, _ = HyperParamXGBoostClassifier(\n",
    "        X_train, y_train, n_trials=100).run()\n",
    "\n",
    "    # Cross-Validation with k = 5\n",
    "    resampled[strategy][\"xgb_boruta\"][\"train_metrics\"] = train_validate_model(model, X_train, y_train)\n",
    "    # Training model...\n",
    "    model = XGBClassifier(**best_hyperparams, verbosity=0)\n",
    "    model.fit(X_train, y_train)\n",
    "    # Model testing\n",
    "    # Only Boruta features\n",
    "    resampled[strategy][\"xgb_boruta\"][\"test_metrics\"] = test_model(model, X_test[boruta_features], y_test)\n",
    "    print(\"\\n\")\n",
    "    # ROC and PR Curves\n",
    "    plot_roc_curve(model, X_test[boruta_features], y_test)\n",
    "    print(\"\\n\")\n",
    "    plot_pr_curve(model, X_test[boruta_features], y_test)\n",
    "    # Save trained model\n",
    "    resampled[strategy][\"xgb_boruta\"][\"obj\"] = model\n",
    "    save_object(resampled[strategy][\"xgb_boruta\"][\"obj\"], f\"{BIN_PATH}xgb_boruta_{strategy}_obj\")\n",
    "    print(\"\\n\")\n",
    "    \n",
    "    # Feature Importance\n",
    "    plot_feature_importances(resampled[strategy][\"xgb_boruta\"][\"obj\"], features, top_n=len(features))\n",
    "    print(\"\\n\\n\\n\")"
   ]
  },
  {
   "cell_type": "markdown",
   "metadata": {
    "jp-MarkdownHeadingCollapsed": true
   },
   "source": [
    "## 04. Synthesized Results"
   ]
  },
  {
   "cell_type": "code",
   "execution_count": null,
   "metadata": {},
   "outputs": [],
   "source": [
    "results = []  # List to save results\n",
    "\n",
    "for strategy, models in resampled.items():  # Iterate on strategies and models\n",
    "    for model_name, model_metrics in models.items():\n",
    "        if model_name not in [\"data\"]:\n",
    "            # Add the metrics dictionaries\n",
    "            results.append({\"strategy\": strategy, \"model\": model_name.upper(),\n",
    "                            \"train_metrics\": model_metrics.get(\"train_metrics\", {}),\n",
    "                            \"test_metrics\": model_metrics.get(\"test_metrics\", {})})\n",
    "# DataFrame from list\n",
    "results_df = pd.DataFrame(results)\n",
    "# Results...\n",
    "display(results_df)"
   ]
  },
  {
   "cell_type": "code",
   "execution_count": null,
   "metadata": {},
   "outputs": [],
   "source": [
    "# Save results DataFrame\n",
    "results_df.to_csv(\"training_results.csv\", index=False)"
   ]
  },
  {
   "cell_type": "code",
   "execution_count": null,
   "metadata": {},
   "outputs": [],
   "source": []
  }
 ],
 "metadata": {
  "colab": {
   "authorship_tag": "ABX9TyPovo2T1FFBW3C7zc/9hq7+",
   "provenance": []
  },
  "kernelspec": {
   "display_name": "Python 3 (ipykernel)",
   "language": "python",
   "name": "python3"
  },
  "language_info": {
   "codemirror_mode": {
    "name": "ipython",
    "version": 3
   },
   "file_extension": ".py",
   "mimetype": "text/x-python",
   "name": "python",
   "nbconvert_exporter": "python",
   "pygments_lexer": "ipython3",
   "version": "3.10.3"
  }
 },
 "nbformat": 4,
 "nbformat_minor": 4
}
