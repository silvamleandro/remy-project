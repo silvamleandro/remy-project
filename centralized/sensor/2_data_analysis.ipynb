{
 "cells": [
  {
   "cell_type": "code",
   "execution_count": null,
   "metadata": {
    "id": "QNrvrE-QvrnP"
   },
   "outputs": [],
   "source": [
    "# Imports\n",
    "import matplotlib.patches as mpatches\n",
    "import matplotlib.pyplot as plt\n",
    "import pandas as pd\n",
    "import ydata_profiling\n",
    "from sklearn.decomposition import PCA"
   ]
  },
  {
   "cell_type": "code",
   "execution_count": null,
   "metadata": {},
   "outputs": [],
   "source": [
    "# Functions\n",
    "\n",
    "def plot_long_lat(df):\n",
    "    # Plotting longitude and latitude\n",
    "    plt.scatter(x=df['x'], y=df['y'])\n",
    "    plt.xlabel(\"Latitude\")\n",
    "    plt.ylabel(\"Longitude\")\n",
    "    plt.show() # Plot show\n",
    "\n",
    "    \n",
    "    \n",
    "def apply_pca(X, n_features):\n",
    "    # Applying the PCA\n",
    "    pca = PCA(n_components=n_features)\n",
    "    X_reduced = pca.fit_transform(X)\n",
    "    # Features DataFrame with the dimension reduction\n",
    "    X_reduced = pd.DataFrame(data=X_reduced, columns=[f'feature_{i + 1}' for i in range(n_features)])\n",
    "    #  Features DataFrame with the reduced dimensions and explained variance\n",
    "    return X_reduced, pca.explained_variance_ratio_\n",
    "\n",
    "\n",
    "\n",
    "def plot_3d(benign_reduced, jamming_reduced, spoofing_reduced):\n",
    "    # Configuring the figure\n",
    "    fig = plt.figure(figsize=(16,10))\n",
    "    plt.rcParams.update({'font.size': 16})\n",
    "    # Adding subplot\n",
    "    ax = fig.add_subplot(111, projection='3d')\n",
    "    # Plotting the samples of each class\n",
    "    ax.plot(benign_reduced['feature_1'], benign_reduced['feature_2'], benign_reduced['feature_3'], '.', markersize=10, color='#2E8B57', alpha=0.8)\n",
    "    ax.plot(jamming_reduced['feature_1'], jamming_reduced['feature_2'], jamming_reduced['feature_3'], '.', markersize=10, color='#B22222', alpha=0.8)\n",
    "    ax.plot(spoofing_reduced['feature_1'], spoofing_reduced['feature_2'], spoofing_reduced['feature_3'], '.', markersize=10, color='#DB9046', alpha=0.8)\n",
    "    # Setting the font and spacing for each axis\n",
    "    ax.set_xlabel('Feature 1', labelpad=20, fontsize=20)\n",
    "    ax.set_ylabel('Feature 2', labelpad=20, fontsize=20)\n",
    "    ax.set_zlabel('Feature 3', labelpad=20, fontsize=20)\n",
    "    # Graph legend\n",
    "    benign = mpatches.Patch(color='#2E8B57', label='Benign')\n",
    "    jamming = mpatches.Patch(color='#B22222', label='GPS Jamming')\n",
    "    spoofing = mpatches.Patch(color='#DB9046', label='GPS Spoofing')\n",
    "    ax.legend(handles=[benign, jamming, spoofing], markerscale=2, ncol=2, loc=1, title='Category')\n",
    "    plt.show() # Plot show"
   ]
  },
  {
   "cell_type": "code",
   "execution_count": null,
   "metadata": {},
   "outputs": [],
   "source": [
    "# Main\n",
    "\n",
    "# Dataset path\n",
    "dataset_path = '/home/leandro/remy-project/centralized/datasets/UAVGPSAttacks/'\n",
    "\n",
    "# Load dataset\n",
    "uav_df = pd.read_csv(dataset_path + 'data.csv')\n",
    "# Load normalized dataset\n",
    "uav_df_norm = pd.read_csv(dataset_path + 'data_norm.csv')"
   ]
  },
  {
   "cell_type": "code",
   "execution_count": null,
   "metadata": {},
   "outputs": [],
   "source": [
    "# Variation of longitude and latitude - Benign\n",
    "plot_long_lat(uav_df[uav_df['class'] == 0])"
   ]
  },
  {
   "cell_type": "code",
   "execution_count": null,
   "metadata": {},
   "outputs": [],
   "source": [
    "# Variation of longitude and latitude - GPS Jamming\n",
    "plot_long_lat(uav_df[uav_df['class'] == 1])"
   ]
  },
  {
   "cell_type": "code",
   "execution_count": null,
   "metadata": {},
   "outputs": [],
   "source": [
    "# Variation of longitude and latitude - GPS Spoofing\n",
    "plot_long_lat(uav_df[uav_df['class'] == 2])"
   ]
  },
  {
   "cell_type": "code",
   "execution_count": null,
   "metadata": {},
   "outputs": [],
   "source": [
    "# Applying PCA to data for each category\n",
    "plot_3d(apply_pca(uav_df_norm[uav_df_norm['class'] == 0], 3)[0],\n",
    "        apply_pca(uav_df_norm[uav_df_norm['class'] == 1], 3)[0],\n",
    "        apply_pca(uav_df_norm[uav_df_norm['class'] == 2], 3)[0])"
   ]
  },
  {
   "cell_type": "code",
   "execution_count": null,
   "metadata": {},
   "outputs": [],
   "source": [
    "# Generate profile report\n",
    "report = uav_df.profile_report(title=\"UAV Attack Dataset\", html={\"style\": {\"full_width\": True}})\n",
    "# Save report to file\n",
    "report.to_file(\"profile_report.html\")"
   ]
  },
  {
   "cell_type": "code",
   "execution_count": null,
   "metadata": {},
   "outputs": [],
   "source": []
  }
 ],
 "metadata": {
  "colab": {
   "authorship_tag": "ABX9TyPUks1bwXasV9sk7c73hGRf",
   "provenance": []
  },
  "kernelspec": {
   "display_name": "Python 3 (ipykernel)",
   "language": "python",
   "name": "python3"
  },
  "language_info": {
   "codemirror_mode": {
    "name": "ipython",
    "version": 3
   },
   "file_extension": ".py",
   "mimetype": "text/x-python",
   "name": "python",
   "nbconvert_exporter": "python",
   "pygments_lexer": "ipython3",
   "version": "3.10.6"
  }
 },
 "nbformat": 4,
 "nbformat_minor": 1
}
