{
 "cells": [
  {
   "cell_type": "code",
   "execution_count": null,
   "metadata": {
    "id": "VwmuQAwfDLzJ"
   },
   "outputs": [],
   "source": [
    "# Imports\n",
    "import matplotlib.pyplot as plt\n",
    "import numpy as np\n",
    "import pandas as pd\n",
    "import seaborn as sns\n",
    "import ydata_profiling"
   ]
  },
  {
   "cell_type": "code",
   "execution_count": null,
   "metadata": {},
   "outputs": [],
   "source": [
    "# Functions\n",
    "\n",
    "def plot_correlation(df):\n",
    "    # Correlation between different variables\n",
    "    corr = df.corr()\n",
    "    # Set up the matplotlib plot configuration\n",
    "    f, ax = plt.subplots(figsize=(10, 10))\n",
    "    # Generate a mask for upper traingle\n",
    "    mask = np.triu(np.ones_like(corr, dtype=bool))\n",
    "    # Configure a custom diverging colormap\n",
    "    cmap = sns.diverging_palette(230, 20, as_cmap=True)\n",
    "    # Draw the heatmap\n",
    "    sns.heatmap(corr, annot=True, mask=mask, cmap=cmap)"
   ]
  },
  {
   "cell_type": "code",
   "execution_count": null,
   "metadata": {},
   "outputs": [],
   "source": [
    "# Main\n",
    "\n",
    "# Dataset path\n",
    "dataset_path = '/home/leandro/remy/centralized/datasets/WSN-DS/'\n",
    "\n",
    "# Load dataset\n",
    "wsn_df = pd.read_csv(f'{dataset_path}data.csv')\n",
    "# Sort DataFrame by 'Time' column\n",
    "wsn_df = wsn_df.sort_values(by=[' Time']).reset_index(drop=True)\n",
    "# Drop 'id' column\n",
    "wsn_df.drop(columns=' id', inplace=True)\n",
    "# Rename class column\n",
    "wsn_df.rename(columns={\"Attack type\": \"class\"}, inplace=True)\n",
    "# Remove TDMA schedule attack\n",
    "wsn_df = wsn_df[wsn_df['class'] != 'TDMA'].reset_index(drop=True)\n",
    "\n",
    "# Convert classes to numeric\n",
    "wsn_df[\"class\"] = wsn_df[\"class\"].map({\n",
    "    \"Normal\": 0,\n",
    "    \"Grayhole\": 1,\n",
    "    \"Blackhole\": 2,\n",
    "    \"Flooding\": 3\n",
    "}.get)"
   ]
  },
  {
   "cell_type": "code",
   "execution_count": null,
   "metadata": {},
   "outputs": [],
   "source": [
    "# Sample count of each class\n",
    "wsn_df['class'].value_counts().plot(kind='bar')"
   ]
  },
  {
   "cell_type": "code",
   "execution_count": null,
   "metadata": {},
   "outputs": [],
   "source": [
    "# Plot correlation between features\n",
    "plot_correlation(wsn_df)"
   ]
  },
  {
   "cell_type": "code",
   "execution_count": null,
   "metadata": {},
   "outputs": [],
   "source": [
    "# Generate profile report\n",
    "report = wsn_df.profile_report(title=\"WSN-DS Dataset\", html={\"style\": {\"full_width\": True}})\n",
    "# Save report to file\n",
    "report.to_file(\"profile_report.html\")"
   ]
  },
  {
   "cell_type": "code",
   "execution_count": null,
   "metadata": {},
   "outputs": [],
   "source": []
  }
 ],
 "metadata": {
  "colab": {
   "authorship_tag": "ABX9TyOnjJWB1Ppkr2QqrP+c9FS4",
   "provenance": []
  },
  "kernelspec": {
   "display_name": "Python 3 (ipykernel)",
   "language": "python",
   "name": "python3"
  },
  "language_info": {
   "codemirror_mode": {
    "name": "ipython",
    "version": 3
   },
   "file_extension": ".py",
   "mimetype": "text/x-python",
   "name": "python",
   "nbconvert_exporter": "python",
   "pygments_lexer": "ipython3",
   "version": "3.10.6"
  }
 },
 "nbformat": 4,
 "nbformat_minor": 1
}
